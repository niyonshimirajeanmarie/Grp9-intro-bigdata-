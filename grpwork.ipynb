{
 "cells": [
  {
   "cell_type": "code",
   "execution_count": 2,
   "id": "89278ba9-0ea3-4740-8e49-c06fcb19accc",
   "metadata": {},
   "outputs": [
    {
     "name": "stdin",
     "output_type": "stream",
     "text": [
      "Enter a word or sentence:  ifi\n"
     ]
    },
    {
     "name": "stdout",
     "output_type": "stream",
     "text": [
      "Yes, it's a palindrome.\n"
     ]
    }
   ],
   "source": [
    "def check_palindrome():\n",
    "    user_input = input(\"Enter a word or sentence: \")\n",
    "    user_input = user_input.lower()\n",
    "    user_input = user_input.replace(\" \", \"\")\n",
    "    reversed_input = user_input[::-1]\n",
    "    if user_input == reversed_input:\n",
    "        print(\"Yes, it's a palindrome.\")\n",
    "    else:\n",
    "        print(\"No, it's not a palindrome.\")\n",
    "\n",
    "check_palindrome()"
   ]
  },
  {
   "cell_type": "code",
   "execution_count": 3,
   "id": "98f044c1-bf5f-4746-a501-d82798c47032",
   "metadata": {},
   "outputs": [
    {
     "name": "stdin",
     "output_type": "stream",
     "text": [
      "Enter your name:  jean marie\n",
      "Enter your year of birth (e.g., 2000):  2003\n"
     ]
    },
    {
     "name": "stdout",
     "output_type": "stream",
     "text": [
      "Thank you\n",
      "jean marie, your age is: 22\n"
     ]
    }
   ],
   "source": [
    "def calculate_age():\n",
    "    name = input(\"Enter your name: \")\n",
    "    birth_year = int(input(\"Enter your year of birth (e.g., 2000): \"))\n",
    "    \n",
    "    current_year = 2025\n",
    "    age = current_year - birth_year\n",
    "    \n",
    "    print(\"Thank you\")\n",
    "    print(name + \", your age is:\", age)\n",
    "\n",
    "calculate_age()\n"
   ]
  },
  {
   "cell_type": "code",
   "execution_count": 4,
   "id": "c3dd7ae5-5678-4e04-8cbf-9dd1a1758f46",
   "metadata": {},
   "outputs": [
    {
     "name": "stdin",
     "output_type": "stream",
     "text": [
      "Enter your name:  jean marie\n",
      "Enter your year of birth (e.g., 2000):  2003\n"
     ]
    },
    {
     "name": "stdout",
     "output_type": "stream",
     "text": [
      "Thank you\n",
      "jean marie, your age is: 22\n"
     ]
    }
   ],
   "source": [
    "def calculate_age():\n",
    "    name = input(\"Enter your name: \")\n",
    "    birth_year = int(input(\"Enter your year of birth (e.g., 2000): \"))\n",
    "    \n",
    "    current_year = 2025\n",
    "    age = current_year - birth_year\n",
    "    \n",
    "    print(\"Thank you\")\n",
    "    print(name + \", your age is:\", age)\n",
    "\n",
    "calculate_age()"
   ]
  },
  {
   "cell_type": "code",
   "execution_count": null,
   "id": "59fd59ff-79fc-43d4-8445-3e2ebd8a7f5a",
   "metadata": {},
   "outputs": [],
   "source": []
  }
 ],
 "metadata": {
  "kernelspec": {
   "display_name": "Python [conda env:base] *",
   "language": "python",
   "name": "conda-base-py"
  },
  "language_info": {
   "codemirror_mode": {
    "name": "ipython",
    "version": 3
   },
   "file_extension": ".py",
   "mimetype": "text/x-python",
   "name": "python",
   "nbconvert_exporter": "python",
   "pygments_lexer": "ipython3",
   "version": "3.12.4"
  }
 },
 "nbformat": 4,
 "nbformat_minor": 5
}
